{
 "cells": [
  {
   "cell_type": "code",
   "execution_count": 1,
   "id": "initial_id",
   "metadata": {
    "collapsed": true,
    "ExecuteTime": {
     "end_time": "2024-05-08T17:09:38.869041Z",
     "start_time": "2024-05-08T17:09:38.864485Z"
    }
   },
   "outputs": [],
   "source": [
    "import sys\n",
    "import os\n",
    "\n",
    "notebook_path = os.path.abspath(os.getcwd())\n",
    "parent_dir = os.path.abspath(os.path.join(notebook_path, '..'))\n",
    "sys.path.append(parent_dir)"
   ]
  },
  {
   "cell_type": "markdown",
   "source": [
    "# Создаю новый датасет очищая от:\n",
    "- Повторяющихся дат $dttm = \\text{01-01-2000}, price = 3; dttm = \\text{01-01-2000}, price = 2$\n",
    "- Арбитражных опционов $max(S_0 − K, 0) < EC < S_0 \\right_arrow False, max(K − S_0, 0) < EP < K \\rightarrow False$\n",
    "- Нулевых цен $EC_{real} \\text{ or } EP_{real} = 0$"
   ],
   "metadata": {
    "collapsed": false
   },
   "id": "30272dbc77ce9030"
  },
  {
   "cell_type": "code",
   "outputs": [],
   "source": [
    "import pandas as pd\n",
    "from proj_utils.refactoring import find_arbitrage\n",
    "\n",
    "data = pd.read_csv('../data/server_data/dataset.csv', index_col='Unnamed: 0')\n",
    "data['S_prev'] = data['S'].shift(1)\n",
    "data = data.iloc[1:]\n",
    "data['price'] *= data['S']\n",
    "data = data[data.apply(find_arbitrage, axis=1) == 0]\n",
    "data = data.sort_values(by=['id', 'dttm'])\n",
    "\n",
    "date_prev = None\n",
    "option_id_prev = None\n",
    "\n",
    "bad_index = []\n",
    "\n",
    "for idx, row in data.iterrows():\n",
    "    \n",
    "    if row.price == 0:\n",
    "        bad_index.append(idx)\n",
    "        continue\n",
    "\n",
    "    if date_prev is None:\n",
    "        date_prev = row.dttm\n",
    "        option_id_prev = row.id\n",
    "        continue\n",
    "\n",
    "    if option_id_prev != row.id:\n",
    "        option_id_prev = row.id\n",
    "        date_prev = row.dttm\n",
    "        continue\n",
    "\n",
    "    if date_prev == row.dttm and option_id_prev == row.id:\n",
    "        date_prev = row.dttm\n",
    "        bad_index.append(idx)\n",
    "\n",
    "data.drop(bad_index, inplace=True)\n",
    "\n",
    "data.to_csv('../data/server_data/dataset_cleaned.csv')"
   ],
   "metadata": {
    "collapsed": false,
    "ExecuteTime": {
     "end_time": "2024-05-08T17:10:08.893872Z",
     "start_time": "2024-05-08T17:09:39.684096Z"
    }
   },
   "id": "905d174b14dda0e6",
   "execution_count": 2
  }
 ],
 "metadata": {
  "kernelspec": {
   "display_name": "Python 3",
   "language": "python",
   "name": "python3"
  },
  "language_info": {
   "codemirror_mode": {
    "name": "ipython",
    "version": 2
   },
   "file_extension": ".py",
   "mimetype": "text/x-python",
   "name": "python",
   "nbconvert_exporter": "python",
   "pygments_lexer": "ipython2",
   "version": "2.7.6"
  }
 },
 "nbformat": 4,
 "nbformat_minor": 5
}
