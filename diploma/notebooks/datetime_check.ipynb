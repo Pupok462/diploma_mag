{
 "cells": [
  {
   "cell_type": "code",
   "execution_count": 1,
   "id": "initial_id",
   "metadata": {
    "collapsed": true,
    "ExecuteTime": {
     "end_time": "2024-05-13T21:58:23.877095Z",
     "start_time": "2024-05-13T21:58:23.872905Z"
    }
   },
   "outputs": [],
   "source": [
    "import sys\n",
    "import os\n",
    "\n",
    "notebook_path = os.path.abspath(os.getcwd())\n",
    "parent_dir = os.path.abspath(os.path.join(notebook_path, '..'))\n",
    "sys.path.append(parent_dir)"
   ]
  },
  {
   "cell_type": "code",
   "outputs": [
    {
     "data": {
      "text/plain": "                  dttm                  id     price            S     r  \\\n0  2023-11-27 08:00:00  ETH-30NOV23-1750-P  0.412478  2062.390869  0.05   \n1  2023-11-28 08:00:00  ETH-30NOV23-1750-P  0.202752  2027.517212  0.05   \n2  2023-11-29 08:00:00  ETH-30NOV23-1750-P  0.409837  2049.186768  0.05   \n3  2023-11-27 08:00:00  ETH-30NOV23-1800-P  0.618717  2062.390869  0.05   \n4  2023-11-28 08:00:00  ETH-30NOV23-1800-P  0.405503  2027.517212  0.05   \n\n        S_prev  \n0          NaN  \n1  2062.390869  \n2  2027.517212  \n3  2049.186768  \n4  2062.390869  ",
      "text/html": "<div>\n<style scoped>\n    .dataframe tbody tr th:only-of-type {\n        vertical-align: middle;\n    }\n\n    .dataframe tbody tr th {\n        vertical-align: top;\n    }\n\n    .dataframe thead th {\n        text-align: right;\n    }\n</style>\n<table border=\"1\" class=\"dataframe\">\n  <thead>\n    <tr style=\"text-align: right;\">\n      <th></th>\n      <th>dttm</th>\n      <th>id</th>\n      <th>price</th>\n      <th>S</th>\n      <th>r</th>\n      <th>S_prev</th>\n    </tr>\n  </thead>\n  <tbody>\n    <tr>\n      <th>0</th>\n      <td>2023-11-27 08:00:00</td>\n      <td>ETH-30NOV23-1750-P</td>\n      <td>0.412478</td>\n      <td>2062.390869</td>\n      <td>0.05</td>\n      <td>NaN</td>\n    </tr>\n    <tr>\n      <th>1</th>\n      <td>2023-11-28 08:00:00</td>\n      <td>ETH-30NOV23-1750-P</td>\n      <td>0.202752</td>\n      <td>2027.517212</td>\n      <td>0.05</td>\n      <td>2062.390869</td>\n    </tr>\n    <tr>\n      <th>2</th>\n      <td>2023-11-29 08:00:00</td>\n      <td>ETH-30NOV23-1750-P</td>\n      <td>0.409837</td>\n      <td>2049.186768</td>\n      <td>0.05</td>\n      <td>2027.517212</td>\n    </tr>\n    <tr>\n      <th>3</th>\n      <td>2023-11-27 08:00:00</td>\n      <td>ETH-30NOV23-1800-P</td>\n      <td>0.618717</td>\n      <td>2062.390869</td>\n      <td>0.05</td>\n      <td>2049.186768</td>\n    </tr>\n    <tr>\n      <th>4</th>\n      <td>2023-11-28 08:00:00</td>\n      <td>ETH-30NOV23-1800-P</td>\n      <td>0.405503</td>\n      <td>2027.517212</td>\n      <td>0.05</td>\n      <td>2062.390869</td>\n    </tr>\n  </tbody>\n</table>\n</div>"
     },
     "execution_count": 2,
     "metadata": {},
     "output_type": "execute_result"
    }
   ],
   "source": [
    "import pandas as pd\n",
    "from proj_utils.refactoring import check_for_duplicate_dates\n",
    "\n",
    "data = pd.read_csv('../data/server_data/dataset.csv', index_col='Unnamed: 0')\n",
    "data['S_prev'] = data['S'].shift(1)\n",
    "data['price'] *= data['S']\n",
    "\n",
    "data.head()"
   ],
   "metadata": {
    "collapsed": false,
    "ExecuteTime": {
     "end_time": "2024-05-13T21:58:25.190770Z",
     "start_time": "2024-05-13T21:58:24.365226Z"
    }
   },
   "id": "a3d07f915e7fda5c",
   "execution_count": 2
  },
  {
   "cell_type": "code",
   "outputs": [
    {
     "name": "stdout",
     "output_type": "stream",
     "text": [
      "Кол-во строчек с нулевыми ценами опционов в датасете: 2607\n",
      "Процент нулевых цен опционов в датасете 0.41%\n"
     ]
    }
   ],
   "source": [
    "ex = pd.read_csv('../data/server_data/crypto_option_candles_days.csv')\n",
    "\n",
    "print(f\"Кол-во строчек с нулевыми ценами опционов в датасете: {len(ex[ex['close'] == 0])}\\nПроцент нулевых цен опционов в датасете {round(len(ex[ex['close'] == 0])/len(ex) * 100, 2)}%\")"
   ],
   "metadata": {
    "collapsed": false,
    "ExecuteTime": {
     "end_time": "2024-05-13T22:02:25.365571Z",
     "start_time": "2024-05-13T22:02:25.074263Z"
    }
   },
   "id": "29a0db55dab79802",
   "execution_count": 9
  },
  {
   "cell_type": "code",
   "outputs": [
    {
     "name": "stdout",
     "output_type": "stream",
     "text": [
      "Кол-во строчек с повторяющимися датами : 15242\n",
      "Процент таких строчек по отношению ко всему датасету: 2.41\n"
     ]
    }
   ],
   "source": [
    "quantity, percent = check_for_duplicate_dates(data)\n",
    "\n",
    "print(f\"Кол-во строчек с повторяющимися датами : {quantity}\\nПроцент таких строчек по отношению ко всему датасету: {percent}\")"
   ],
   "metadata": {
    "collapsed": false,
    "ExecuteTime": {
     "end_time": "2024-05-07T13:34:44.309971Z",
     "start_time": "2024-05-07T13:34:30.234134Z"
    }
   },
   "id": "1a2ce87ab287ee93",
   "execution_count": 22
  }
 ],
 "metadata": {
  "kernelspec": {
   "display_name": "Python 3",
   "language": "python",
   "name": "python3"
  },
  "language_info": {
   "codemirror_mode": {
    "name": "ipython",
    "version": 2
   },
   "file_extension": ".py",
   "mimetype": "text/x-python",
   "name": "python",
   "nbconvert_exporter": "python",
   "pygments_lexer": "ipython2",
   "version": "2.7.6"
  }
 },
 "nbformat": 4,
 "nbformat_minor": 5
}
